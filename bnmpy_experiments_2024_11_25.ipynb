{
 "cells": [
  {
   "cell_type": "markdown",
   "id": "53989e6f-ca01-4de0-bb18-76f5d8de6cb0",
   "metadata": {},
   "source": [
    "# Experimenting with BNMPy\n",
    "\n",
    "- loading boolean networks from equations/files\n",
    "- simulating boolean networks with and without noise\n",
    "- running networks with different initial conditions\n",
    "- plotting results\n",
    "- plotting the network using graphviz/dot?\n",
    "\n",
    "To test/update:\n",
    "- what if there are constant values in the string? allow 1 or 0 in the description string."
   ]
  },
  {
   "cell_type": "code",
   "execution_count": 1,
   "id": "13155d6b-a5ff-431b-bb7c-874b5f481714",
   "metadata": {},
   "outputs": [],
   "source": [
    "import BNMPy.booleanNetwork as bn\n",
    "from BNMPy import BMatrix"
   ]
  },
  {
   "cell_type": "markdown",
   "id": "a544134d-ff46-4520-b991-192441d94b03",
   "metadata": {},
   "source": [
    "## New features - constants in the description string"
   ]
  },
  {
   "cell_type": "code",
   "execution_count": 2,
   "id": "27ad25a3-8d16-4695-b4e0-f4a3dafb8ed6",
   "metadata": {},
   "outputs": [],
   "source": [
    "network = \"\"\"\n",
    "A1 = A1\n",
    "A2 = A2\n",
    "A3 = A1 & A2\n",
    "A4 = A1 | A2\n",
    "A5 = 1\n",
    "A6 = A1 | (1 & A2) | (A4 | 0)\n",
    "\"\"\""
   ]
  },
  {
   "cell_type": "code",
   "execution_count": 3,
   "id": "b81e244a-9e02-481d-a961-88a265b8a8bb",
   "metadata": {},
   "outputs": [
    {
     "name": "stdout",
     "output_type": "stream",
     "text": [
      "No initial state provided, using a random initial state\n"
     ]
    }
   ],
   "source": [
    "bn1 = BMatrix.load_network_from_string(network)"
   ]
  },
  {
   "cell_type": "code",
   "execution_count": 4,
   "id": "ddbffbf5-579f-4d4a-b6b9-2b7a18d2bfb3",
   "metadata": {},
   "outputs": [
    {
     "data": {
      "text/plain": [
       "dtype('int8')"
      ]
     },
     "execution_count": 4,
     "metadata": {},
     "output_type": "execute_result"
    }
   ],
   "source": [
    "bn1.F.dtype"
   ]
  },
  {
   "cell_type": "code",
   "execution_count": 5,
   "id": "beb4b884-9609-49a3-9cd6-b766da3488e3",
   "metadata": {},
   "outputs": [
    {
     "data": {
      "text/plain": [
       "array([[1, 0, 0, 0, 1, 1],\n",
       "       [1, 0, 0, 1, 1, 1],\n",
       "       [1, 0, 0, 1, 1, 1],\n",
       "       [1, 0, 0, 1, 1, 1],\n",
       "       [1, 0, 0, 1, 1, 1],\n",
       "       [1, 0, 0, 1, 1, 1],\n",
       "       [1, 0, 0, 1, 1, 1],\n",
       "       [1, 0, 0, 1, 1, 1],\n",
       "       [1, 0, 0, 1, 1, 1],\n",
       "       [1, 0, 0, 1, 1, 1],\n",
       "       [1, 0, 0, 1, 1, 1]], dtype=int8)"
      ]
     },
     "execution_count": 5,
     "metadata": {},
     "output_type": "execute_result"
    }
   ],
   "source": [
    "bn1.update(10)"
   ]
  },
  {
   "cell_type": "code",
   "execution_count": 6,
   "id": "216ecdd0-03b7-49a6-945e-0cdcb464e2fa",
   "metadata": {},
   "outputs": [
    {
     "data": {
      "text/plain": [
       "<BNMPy.booleanNetwork.BooleanNetwork at 0x7f0da9c3a6e0>"
      ]
     },
     "execution_count": 6,
     "metadata": {},
     "output_type": "execute_result"
    }
   ],
   "source": [
    "bn1"
   ]
  },
  {
   "cell_type": "code",
   "execution_count": 7,
   "id": "0964364e-a742-487e-8f32-2d6a10f11c96",
   "metadata": {},
   "outputs": [],
   "source": [
    "equations = [x.strip() for x in network.strip().split('\\n')]"
   ]
  },
  {
   "cell_type": "code",
   "execution_count": 8,
   "id": "73d34cc6-ede1-4471-adb7-00d08162eabf",
   "metadata": {},
   "outputs": [],
   "source": [
    "ngenes = len(equations)"
   ]
  },
  {
   "cell_type": "code",
   "execution_count": 9,
   "id": "8120d65d-8919-4cab-bc0b-c56ebbfb923f",
   "metadata": {},
   "outputs": [],
   "source": [
    "gene_dict = BMatrix.get_gene_dict(equations)"
   ]
  },
  {
   "cell_type": "code",
   "execution_count": 10,
   "id": "30aa1a73-f661-43a0-a868-9a66ebca6d2f",
   "metadata": {},
   "outputs": [
    {
     "data": {
      "text/plain": [
       "{'A1': 0, 'A2': 1, 'A3': 2, 'A4': 3, 'A5': 4, 'A6': 5}"
      ]
     },
     "execution_count": 10,
     "metadata": {},
     "output_type": "execute_result"
    }
   ],
   "source": [
    "gene_dict"
   ]
  },
  {
   "cell_type": "code",
   "execution_count": 11,
   "id": "0dcf88a5-e77e-4ef7-8b6c-a3cb76daed1b",
   "metadata": {},
   "outputs": [],
   "source": [
    "upstream_genes = BMatrix.get_upstream_genes(equations)"
   ]
  },
  {
   "cell_type": "code",
   "execution_count": 12,
   "id": "740c55fd-8a76-4e54-9c4a-cf06f789f1df",
   "metadata": {},
   "outputs": [
    {
     "data": {
      "text/plain": [
       "['A1', 'A2', 'A1 A2', 'A1 A2', '', 'A2 A1 A4']"
      ]
     },
     "execution_count": 12,
     "metadata": {},
     "output_type": "execute_result"
    }
   ],
   "source": [
    "upstream_genes"
   ]
  },
  {
   "cell_type": "code",
   "execution_count": 13,
   "id": "6e8332ab-0e07-4b13-97ae-99fb210d5eae",
   "metadata": {},
   "outputs": [],
   "source": [
    "connectivity_matrix = BMatrix.get_connectivity_matrix(equations, upstream_genes, gene_dict)"
   ]
  },
  {
   "cell_type": "code",
   "execution_count": 59,
   "id": "ac299c18-3e09-437b-9118-00650a9967b0",
   "metadata": {},
   "outputs": [
    {
     "name": "stdout",
     "output_type": "stream",
     "text": [
      "No initial state provided, using a random initial state\n"
     ]
    }
   ],
   "source": [
    "network = \"\"\"\n",
    "A1 = A1\n",
    "A2 = A2\n",
    "A3 = A3\n",
    "A4 = A4 | 1\n",
    "\"\"\"\n",
    "bn1 = BMatrix.load_network_from_string(network)"
   ]
  },
  {
   "cell_type": "code",
   "execution_count": 60,
   "id": "b9d21b71-0a1c-473d-b7c5-c0cb625e4c52",
   "metadata": {},
   "outputs": [
    {
     "data": {
      "text/plain": [
       "array([[0],\n",
       "       [1],\n",
       "       [2],\n",
       "       [3]])"
      ]
     },
     "execution_count": 60,
     "metadata": {},
     "output_type": "execute_result"
    }
   ],
   "source": [
    "bn1.varF"
   ]
  },
  {
   "cell_type": "code",
   "execution_count": 61,
   "id": "0aef703b-88f7-4c9a-be1e-6e6ceb94744f",
   "metadata": {},
   "outputs": [
    {
     "data": {
      "text/plain": [
       "array([[0, 1],\n",
       "       [0, 1],\n",
       "       [0, 1],\n",
       "       [1, 1]], dtype=int8)"
      ]
     },
     "execution_count": 61,
     "metadata": {},
     "output_type": "execute_result"
    }
   ],
   "source": [
    "bn1.F"
   ]
  },
  {
   "cell_type": "markdown",
   "id": "d857459a-412a-4f5a-869f-290c6effede1",
   "metadata": {},
   "source": [
    "## New feature - mutations/knockouts"
   ]
  },
  {
   "cell_type": "code",
   "execution_count": 53,
   "id": "58a1c274-f092-435e-b9b4-b617d2bc86f3",
   "metadata": {},
   "outputs": [
    {
     "name": "stdout",
     "output_type": "stream",
     "text": [
      "No initial state provided, using a random initial state\n"
     ]
    }
   ],
   "source": [
    "network = \"\"\"\n",
    "A2 = A2\n",
    "A3 = A1 & A2\n",
    "A1 = 1 | A1\n",
    "A4 = A3\n",
    "\"\"\"\n",
    "bn1 = BMatrix.load_network_from_string(network)"
   ]
  },
  {
   "cell_type": "code",
   "execution_count": 54,
   "id": "4952b045-2e54-4de5-8cb5-873ded6ab390",
   "metadata": {},
   "outputs": [
    {
     "data": {
      "text/plain": [
       "array([[ 0, -1],\n",
       "       [ 2,  0],\n",
       "       [ 2, -1],\n",
       "       [ 1, -1]])"
      ]
     },
     "execution_count": 54,
     "metadata": {},
     "output_type": "execute_result"
    }
   ],
   "source": [
    "bn1.varF"
   ]
  },
  {
   "cell_type": "code",
   "execution_count": 55,
   "id": "8a17e819-48e4-4018-924d-e80c1d2edf8b",
   "metadata": {},
   "outputs": [
    {
     "data": {
      "text/plain": [
       "array([[ 0,  1, -1, -1],\n",
       "       [ 0,  0,  0,  1],\n",
       "       [ 1,  1, -1, -1],\n",
       "       [ 0,  1, -1, -1]], dtype=int8)"
      ]
     },
     "execution_count": 55,
     "metadata": {},
     "output_type": "execute_result"
    }
   ],
   "source": [
    "bn1.F"
   ]
  },
  {
   "cell_type": "code",
   "execution_count": 44,
   "id": "c1bb2c61-0c6e-447a-ab6a-d67c85ae11b1",
   "metadata": {},
   "outputs": [
    {
     "data": {
      "text/plain": [
       "array([[0, 1, 0, 0],\n",
       "       [0, 0, 1, 0],\n",
       "       [0, 0, 1, 0],\n",
       "       [0, 0, 1, 0],\n",
       "       [0, 0, 1, 0],\n",
       "       [0, 0, 1, 0],\n",
       "       [0, 0, 1, 0],\n",
       "       [0, 0, 1, 0],\n",
       "       [0, 0, 1, 0],\n",
       "       [0, 0, 1, 0],\n",
       "       [0, 0, 1, 0]], dtype=int8)"
      ]
     },
     "execution_count": 44,
     "metadata": {},
     "output_type": "execute_result"
    }
   ],
   "source": [
    "bn1.update(10)"
   ]
  },
  {
   "cell_type": "code",
   "execution_count": 45,
   "id": "2670418d-47e4-411d-8e91-1bee84cd5d6a",
   "metadata": {},
   "outputs": [
    {
     "name": "stdout",
     "output_type": "stream",
     "text": [
      "No initial state provided, using a random initial state\n"
     ]
    }
   ],
   "source": [
    "network = \"\"\"\n",
    "A1 = A1\n",
    "A2 = A2\n",
    "A3 = A1 & A2\n",
    "A4 = A3\n",
    "\"\"\"\n",
    "bn1 = BMatrix.load_network_from_string(network)"
   ]
  },
  {
   "cell_type": "code",
   "execution_count": 46,
   "id": "17f4649d-964f-48db-8076-aed9f880c7e7",
   "metadata": {},
   "outputs": [
    {
     "data": {
      "text/plain": [
       "dtype('int64')"
      ]
     },
     "execution_count": 46,
     "metadata": {},
     "output_type": "execute_result"
    }
   ],
   "source": [
    "bn1.varF.dtype"
   ]
  },
  {
   "cell_type": "code",
   "execution_count": 47,
   "id": "a7df3b2a-c31c-4dce-8202-83644bbc90c0",
   "metadata": {},
   "outputs": [
    {
     "data": {
      "text/plain": [
       "array([[ 0,  1, -1, -1],\n",
       "       [ 0,  1, -1, -1],\n",
       "       [ 0,  0,  0,  1],\n",
       "       [ 0,  1, -1, -1]], dtype=int8)"
      ]
     },
     "execution_count": 47,
     "metadata": {},
     "output_type": "execute_result"
    }
   ],
   "source": [
    "bn1.F"
   ]
  },
  {
   "cell_type": "code",
   "execution_count": 48,
   "id": "c87a5e9e-5426-421f-a99b-f75fb551aad2",
   "metadata": {},
   "outputs": [],
   "source": [
    "bn1.knockout('A3', 1)"
   ]
  },
  {
   "cell_type": "code",
   "execution_count": 50,
   "id": "4ebf86a4-7ad3-4a44-8d56-ec53f37c1ecf",
   "metadata": {},
   "outputs": [],
   "source": [
    "bn1.undoKnockouts()"
   ]
  },
  {
   "cell_type": "code",
   "execution_count": 21,
   "id": "ae8923e3-c20c-4075-a596-804f51853140",
   "metadata": {},
   "outputs": [
    {
     "data": {
      "text/plain": [
       "array([[ 0, -1],\n",
       "       [ 1, -1],\n",
       "       [-1, -1],\n",
       "       [ 2, -1]])"
      ]
     },
     "execution_count": 21,
     "metadata": {},
     "output_type": "execute_result"
    }
   ],
   "source": [
    "bn1.varF"
   ]
  },
  {
   "cell_type": "code",
   "execution_count": 22,
   "id": "6d99db01-9e83-4add-af72-596ce1a8e144",
   "metadata": {},
   "outputs": [
    {
     "data": {
      "text/plain": [
       "array([0, 1, 0, 0], dtype=int8)"
      ]
     },
     "execution_count": 22,
     "metadata": {},
     "output_type": "execute_result"
    }
   ],
   "source": [
    "bn1.nodes"
   ]
  },
  {
   "cell_type": "code",
   "execution_count": 23,
   "id": "6e7dbefe-4076-45a9-ba8e-3ce9a422e412",
   "metadata": {},
   "outputs": [
    {
     "data": {
      "text/plain": [
       "array([[ 0,  1, -1, -1],\n",
       "       [ 0,  1, -1, -1],\n",
       "       [ 0, -1, -1, -1],\n",
       "       [ 0,  1, -1, -1]], dtype=int8)"
      ]
     },
     "execution_count": 23,
     "metadata": {},
     "output_type": "execute_result"
    }
   ],
   "source": [
    "bn1.F"
   ]
  },
  {
   "cell_type": "code",
   "execution_count": 24,
   "id": "1eb051c7-c475-47fc-bfc7-743269642795",
   "metadata": {},
   "outputs": [],
   "source": [
    "bn1.setInitialValue('A1', 1)\n",
    "bn1.setInitialValue('A2', 1)\n",
    "bn1.setInitialValue('A4', 1)"
   ]
  },
  {
   "cell_type": "code",
   "execution_count": 25,
   "id": "3824f77c-3b4a-4d68-9004-4d03346799fc",
   "metadata": {},
   "outputs": [
    {
     "data": {
      "text/plain": [
       "array([1, 1, 0, 1], dtype=int8)"
      ]
     },
     "execution_count": 25,
     "metadata": {},
     "output_type": "execute_result"
    }
   ],
   "source": [
    "bn1.nodes"
   ]
  },
  {
   "cell_type": "code",
   "execution_count": 26,
   "id": "8810dcbc-20b4-4aa6-a148-842403748dc7",
   "metadata": {},
   "outputs": [
    {
     "data": {
      "text/plain": [
       "array([[ 0,  1, -1, -1],\n",
       "       [ 0,  1, -1, -1],\n",
       "       [ 0, -1, -1, -1],\n",
       "       [ 0,  1, -1, -1]], dtype=int8)"
      ]
     },
     "execution_count": 26,
     "metadata": {},
     "output_type": "execute_result"
    }
   ],
   "source": [
    "bn1.F"
   ]
  },
  {
   "cell_type": "code",
   "execution_count": 27,
   "id": "8cf435e7-451d-44b2-a8d1-4dcbc36a917c",
   "metadata": {},
   "outputs": [
    {
     "data": {
      "text/plain": [
       "array([[ 0, -1],\n",
       "       [ 1, -1],\n",
       "       [-1, -1],\n",
       "       [ 2, -1]])"
      ]
     },
     "execution_count": 27,
     "metadata": {},
     "output_type": "execute_result"
    }
   ],
   "source": [
    "bn1.varF"
   ]
  },
  {
   "cell_type": "code",
   "execution_count": 28,
   "id": "9d8f69e7-1a0d-4622-8dc5-0b59accc5829",
   "metadata": {},
   "outputs": [
    {
     "data": {
      "text/plain": [
       "array([1, 1, 0, 1])"
      ]
     },
     "execution_count": 28,
     "metadata": {},
     "output_type": "execute_result"
    }
   ],
   "source": [
    "bn1.K"
   ]
  },
  {
   "cell_type": "code",
   "execution_count": 31,
   "id": "e5af4730-2b0f-41f6-8d68-286d6f93939e",
   "metadata": {},
   "outputs": [
    {
     "data": {
      "text/plain": [
       "array([[1, 1, 0, 1],\n",
       "       [1, 1, 0, 0],\n",
       "       [1, 1, 0, 0],\n",
       "       [1, 1, 0, 0],\n",
       "       [1, 1, 0, 0],\n",
       "       [1, 1, 0, 0],\n",
       "       [1, 1, 0, 0],\n",
       "       [1, 1, 0, 0],\n",
       "       [1, 1, 0, 0],\n",
       "       [1, 1, 0, 0],\n",
       "       [1, 1, 0, 0]], dtype=int8)"
      ]
     },
     "execution_count": 31,
     "metadata": {},
     "output_type": "execute_result"
    }
   ],
   "source": [
    "bn1.update(10)"
   ]
  },
  {
   "cell_type": "markdown",
   "id": "f692ae5d-ed51-4432-acca-0485734c1a50",
   "metadata": {},
   "source": [
    "## Simple networks"
   ]
  },
  {
   "cell_type": "code",
   "execution_count": 3,
   "id": "6b5f30e5-ba66-4112-ac9f-318de18f017b",
   "metadata": {},
   "outputs": [
    {
     "name": "stdout",
     "output_type": "stream",
     "text": [
      "No initial state provided, using a random initial state\n"
     ]
    }
   ],
   "source": [
    "bn1 = BMatrix.load_network_from_file('input_files/simple_network_test.txt')"
   ]
  },
  {
   "cell_type": "code",
   "execution_count": 4,
   "id": "08198baa-e745-4407-b802-39727026c8b0",
   "metadata": {},
   "outputs": [
    {
     "data": {
      "text/plain": [
       "array([1, 1, 0, 0], dtype=int8)"
      ]
     },
     "execution_count": 4,
     "metadata": {},
     "output_type": "execute_result"
    }
   ],
   "source": [
    "bn1.nodes"
   ]
  },
  {
   "cell_type": "code",
   "execution_count": 5,
   "id": "129715b5-b17e-4d50-92db-98e60c1efdfa",
   "metadata": {},
   "outputs": [
    {
     "data": {
      "text/plain": [
       "array([1, 1, 2, 2])"
      ]
     },
     "execution_count": 5,
     "metadata": {},
     "output_type": "execute_result"
    }
   ],
   "source": [
    "bn1.K"
   ]
  },
  {
   "cell_type": "code",
   "execution_count": 6,
   "id": "5269ec69-9a8f-49ee-8b98-a14f865785c7",
   "metadata": {},
   "outputs": [
    {
     "data": {
      "text/plain": [
       "4"
      ]
     },
     "execution_count": 6,
     "metadata": {},
     "output_type": "execute_result"
    }
   ],
   "source": [
    "bn1.N"
   ]
  },
  {
   "cell_type": "code",
   "execution_count": 7,
   "id": "09312b1a-5efd-4458-808e-05b11ea4a633",
   "metadata": {},
   "outputs": [
    {
     "data": {
      "text/plain": [
       "array([[ 0, -1],\n",
       "       [ 1, -1],\n",
       "       [ 1,  0],\n",
       "       [ 1,  0]])"
      ]
     },
     "execution_count": 7,
     "metadata": {},
     "output_type": "execute_result"
    }
   ],
   "source": [
    "bn1.varF"
   ]
  },
  {
   "cell_type": "code",
   "execution_count": 8,
   "id": "97850207-5fff-4a1e-bb4a-b33447bc5ece",
   "metadata": {},
   "outputs": [
    {
     "data": {
      "text/plain": [
       "array([[ 0,  1, -1, -1],\n",
       "       [ 0,  1, -1, -1],\n",
       "       [ 0,  0,  0,  1],\n",
       "       [ 0,  1,  1,  1]], dtype=int8)"
      ]
     },
     "execution_count": 8,
     "metadata": {},
     "output_type": "execute_result"
    }
   ],
   "source": [
    "bn1.F"
   ]
  },
  {
   "cell_type": "code",
   "execution_count": 9,
   "id": "8a35dcbc-7e06-40af-a67a-eb55ecb387d8",
   "metadata": {},
   "outputs": [],
   "source": [
    "network = \"\"\"\n",
    "A1 = A1\n",
    "A2 = A2\n",
    "A3 = A1 & A2\n",
    "A4 = A1 | A2\n",
    "\"\"\""
   ]
  },
  {
   "cell_type": "code",
   "execution_count": 10,
   "id": "faed5c90-1213-492d-845d-5de2b45f91fd",
   "metadata": {},
   "outputs": [],
   "source": [
    "bn1.setInitialValues([1, 1, 0, 0])"
   ]
  },
  {
   "cell_type": "code",
   "execution_count": 11,
   "id": "95175879-ff53-423b-a58e-0b4f2e2c688e",
   "metadata": {},
   "outputs": [
    {
     "data": {
      "text/plain": [
       "array([[1, 1, 0, 0],\n",
       "       [1, 1, 1, 1],\n",
       "       [1, 1, 1, 1],\n",
       "       [1, 1, 1, 1],\n",
       "       [1, 1, 1, 1],\n",
       "       [1, 1, 1, 1],\n",
       "       [1, 1, 1, 1],\n",
       "       [1, 1, 1, 1],\n",
       "       [1, 1, 1, 1],\n",
       "       [1, 1, 1, 1],\n",
       "       [1, 1, 1, 1]], dtype=int8)"
      ]
     },
     "execution_count": 11,
     "metadata": {},
     "output_type": "execute_result"
    }
   ],
   "source": [
    "bn1.update(10)"
   ]
  },
  {
   "cell_type": "code",
   "execution_count": 12,
   "id": "6ce69783-6c46-4862-8625-73b43659b523",
   "metadata": {},
   "outputs": [],
   "source": [
    "bn1.setInitialValues([1, 0, 0, 0])"
   ]
  },
  {
   "cell_type": "code",
   "execution_count": 13,
   "id": "67d511fb-8b0f-4cde-b29d-b2a907088347",
   "metadata": {},
   "outputs": [
    {
     "data": {
      "text/plain": [
       "array([[1, 0, 0, 0],\n",
       "       [1, 0, 0, 1]], dtype=int8)"
      ]
     },
     "execution_count": 13,
     "metadata": {},
     "output_type": "execute_result"
    }
   ],
   "source": [
    "bn1.update(1)"
   ]
  },
  {
   "cell_type": "code",
   "execution_count": 23,
   "id": "ae7da106-44d1-4f93-840a-8e581fa80a74",
   "metadata": {},
   "outputs": [],
   "source": [
    "network2 = \"\"\"A1 = A1\n",
    "A2 = !A1\n",
    "A3 = A3\n",
    "B1 = !A3\n",
    "A4 = A1 | !B1\n",
    "A5 = ( A4 & ( A2 | A3 ))\n",
    "A6 = ((A1|B1) & (A3|A4))\"\"\""
   ]
  },
  {
   "cell_type": "code",
   "execution_count": 24,
   "id": "a1525fce-04fb-4efc-a1e6-177a719a8f2b",
   "metadata": {},
   "outputs": [
    {
     "name": "stdout",
     "output_type": "stream",
     "text": [
      "No initial state provided, using a random initial state\n"
     ]
    }
   ],
   "source": [
    "bn2 = BMatrix.load_network_from_string(network2)"
   ]
  },
  {
   "cell_type": "code",
   "execution_count": 16,
   "id": "f3975085-2a03-4924-bd2f-2de95fa839c5",
   "metadata": {},
   "outputs": [
    {
     "data": {
      "text/plain": [
       "array([1, 0, 0, 1, 1, 0, 0], dtype=int8)"
      ]
     },
     "execution_count": 16,
     "metadata": {},
     "output_type": "execute_result"
    }
   ],
   "source": [
    "bn2.nodes"
   ]
  },
  {
   "cell_type": "code",
   "execution_count": 17,
   "id": "e7886013-58b1-44a2-9d51-ff758d8b2a7b",
   "metadata": {},
   "outputs": [
    {
     "data": {
      "text/plain": [
       "{'A1': 0, 'A2': 1, 'A3': 2, 'B1': 3, 'A4': 4, 'A5': 5, 'A6': 6}"
      ]
     },
     "execution_count": 17,
     "metadata": {},
     "output_type": "execute_result"
    }
   ],
   "source": [
    "bn2.nodeDict"
   ]
  },
  {
   "cell_type": "code",
   "execution_count": 18,
   "id": "c25ca142-81fa-43e8-b197-f2fcdae9dca5",
   "metadata": {},
   "outputs": [
    {
     "data": {
      "text/plain": [
       "array([[ 0,  1, -1, -1, -1, -1, -1, -1, -1, -1, -1, -1, -1, -1, -1, -1],\n",
       "       [ 1,  0, -1, -1, -1, -1, -1, -1, -1, -1, -1, -1, -1, -1, -1, -1],\n",
       "       [ 0,  1, -1, -1, -1, -1, -1, -1, -1, -1, -1, -1, -1, -1, -1, -1],\n",
       "       [ 1,  0, -1, -1, -1, -1, -1, -1, -1, -1, -1, -1, -1, -1, -1, -1],\n",
       "       [ 1,  1,  0,  1, -1, -1, -1, -1, -1, -1, -1, -1, -1, -1, -1, -1],\n",
       "       [ 0,  0,  0,  1,  0,  0,  1,  1, -1, -1, -1, -1, -1, -1, -1, -1],\n",
       "       [ 0,  0,  0,  0,  0,  1,  1,  1,  0,  1,  1,  1,  0,  1,  1,  1]],\n",
       "      dtype=int8)"
      ]
     },
     "execution_count": 18,
     "metadata": {},
     "output_type": "execute_result"
    }
   ],
   "source": [
    "bn2.F"
   ]
  },
  {
   "cell_type": "code",
   "execution_count": 19,
   "id": "ef1d043c-8d3d-4f17-bdbb-d1ac8b90438f",
   "metadata": {},
   "outputs": [
    {
     "data": {
      "text/plain": [
       "array([[ 0, -1, -1, -1],\n",
       "       [ 0, -1, -1, -1],\n",
       "       [ 2, -1, -1, -1],\n",
       "       [ 2, -1, -1, -1],\n",
       "       [ 3,  0, -1, -1],\n",
       "       [ 1,  4,  2, -1],\n",
       "       [ 3,  0,  4,  2]])"
      ]
     },
     "execution_count": 19,
     "metadata": {},
     "output_type": "execute_result"
    }
   ],
   "source": [
    "bn2.varF"
   ]
  },
  {
   "cell_type": "code",
   "execution_count": null,
   "id": "daa3001e-bb2a-490d-a333-d52153a619b6",
   "metadata": {},
   "outputs": [],
   "source": []
  }
 ],
 "metadata": {
  "kernelspec": {
   "display_name": "Python 3 (ipykernel)",
   "language": "python",
   "name": "python3"
  },
  "language_info": {
   "codemirror_mode": {
    "name": "ipython",
    "version": 3
   },
   "file_extension": ".py",
   "mimetype": "text/x-python",
   "name": "python",
   "nbconvert_exporter": "python",
   "pygments_lexer": "ipython3",
   "version": "3.10.6"
  }
 },
 "nbformat": 4,
 "nbformat_minor": 5
}
