{
 "cells": [
  {
   "cell_type": "markdown",
   "id": "9759656c-716f-4bbc-8fe6-55bb22b19aaa",
   "metadata": {},
   "source": [
    "# Building a boolean network from a knowledge graph\n",
    "\n",
    "Use SigNOR\n",
    "\n",
    "Given a list of genes for which we want to construct a BN:\n",
    "\n",
    "1. Find the Steiner subgraph for the given list of genes.\n",
    "2. For each node in the subgraph, find all if its input nodes (i.e. all edges leading into that node).\n",
    "3. For each such node, there is an activating relation if the edge is \"up-regulates\", and a repressing relation if the edge is \"down-regulates\".\n",
    "4. Combine all of the edges with a \"joiner function\" - AND, OR, repressor wins, etc.\n",
    "\n",
    "Or, given an existing model (with some number of genes), a list of nodes, and a knowledge graph, how do we incorporate the new nodes into the model?\n"
   ]
  },
  {
   "cell_type": "code",
   "execution_count": 1,
   "id": "e24e0fa2-24ba-4079-8f09-35b70ed63c66",
   "metadata": {},
   "outputs": [],
   "source": [
    "from BNMPy import build_bn_from_kg"
   ]
  },
  {
   "cell_type": "code",
   "execution_count": 2,
   "id": "717d34f3-a011-4fe9-8563-311a0c094be7",
   "metadata": {},
   "outputs": [
    {
     "name": "stdout",
     "output_type": "stream",
     "text": [
      "['UNIPROT::P21580', 'UNIPROT::P24385', 'UNIPROT::Q9UPN3']\n"
     ]
    }
   ],
   "source": [
    "bn_string = build_bn_from_kg.load_signor_network(['TNFAIP3', 'CCND1', 'MACF1'])"
   ]
  },
  {
   "cell_type": "code",
   "execution_count": 3,
   "id": "079e289b-e060-4d7e-8342-d61d1b7608da",
   "metadata": {},
   "outputs": [
    {
     "name": "stdout",
     "output_type": "stream",
     "text": [
      "ITCH = ITCH\n",
      "TNFAIP3 = (ITCH)\n",
      "CCND1 = (! GSK3B) & (GLI1)\n",
      "GSK3B = (GSK3B) & (! MACF1)\n",
      "MACF1 = (! GSK3B)\n",
      "GLI1 = (! ITCH) & (GLI1)\n"
     ]
    }
   ],
   "source": [
    "print(bn_string)"
   ]
  },
  {
   "cell_type": "code",
   "execution_count": 7,
   "id": "a07a6270-45f0-4971-a80c-8429dd81e437",
   "metadata": {},
   "outputs": [
    {
     "name": "stdout",
     "output_type": "stream",
     "text": [
      "['UNIPROT::P01116', 'UNIPROT::P63092', 'UNIPROT::P04637', 'UNIPROT::Q13485', 'UNIPROT::P42771', 'UNIPROT::Q68DV7']\n",
      "GNAS = GNAS\n",
      "MAPK3 = (MAPK3)\n",
      "IKBKB = (! IKBKB) & (SRC)\n",
      "MYC = (MAPK3) & (! CEBPA) & (! SMAD4)\n",
      "CEBPA = (! MAPK3) & (CEBPA) & (! FZD2)\n",
      "SRC = (GNAS) & (! SRC)\n",
      "TP53 = (MAPK3)\n",
      "FZD2 = (RNF43)\n",
      "SMAD4 = (MAPK3)\n",
      "KRAS = (SRC)\n",
      "CDKN2A = (! IKBKB) & (! MYC)\n",
      "RNF43 = RNF43\n"
     ]
    }
   ],
   "source": [
    "bn_string = build_bn_from_kg.load_signor_network(['KRAS', 'GNAS', 'TP53', 'SMAD4', 'CDKN2A', 'RNF43'], joiner='&')\n",
    "print(bn_string)"
   ]
  },
  {
   "cell_type": "code",
   "execution_count": 8,
   "id": "4fe4db66-e05b-43fe-87d2-10301a2b3991",
   "metadata": {},
   "outputs": [
    {
     "name": "stdout",
     "output_type": "stream",
     "text": [
      "['UNIPROT::P01116', 'UNIPROT::P63092', 'UNIPROT::P04637', 'UNIPROT::Q13485', 'UNIPROT::P42771', 'UNIPROT::Q68DV7']\n",
      "GNAS = GNAS\n",
      "MAPK3 = (MAPK3)\n",
      "IKBKB = (! IKBKB) | (SRC)\n",
      "MYC = (MAPK3) | (! CEBPA) | (! SMAD4)\n",
      "CEBPA = (! MAPK3) | (CEBPA) | (! FZD2)\n",
      "SRC = (GNAS) | (! SRC)\n",
      "TP53 = (MAPK3)\n",
      "FZD2 = (RNF43)\n",
      "SMAD4 = (MAPK3)\n",
      "KRAS = (SRC)\n",
      "CDKN2A = (! IKBKB) | (! MYC)\n",
      "RNF43 = RNF43\n"
     ]
    }
   ],
   "source": [
    "bn_string = build_bn_from_kg.load_signor_network(['KRAS', 'GNAS', 'TP53', 'SMAD4', 'CDKN2A', 'RNF43'], joiner='|')\n",
    "print(bn_string)"
   ]
  },
  {
   "cell_type": "code",
   "execution_count": null,
   "id": "6ac30ce2-4852-4a9e-9fc7-d366b9c8f5fe",
   "metadata": {},
   "outputs": [],
   "source": []
  }
 ],
 "metadata": {
  "kernelspec": {
   "display_name": "Python 3 (ipykernel)",
   "language": "python",
   "name": "python3"
  },
  "language_info": {
   "codemirror_mode": {
    "name": "ipython",
    "version": 3
   },
   "file_extension": ".py",
   "mimetype": "text/x-python",
   "name": "python",
   "nbconvert_exporter": "python",
   "pygments_lexer": "ipython3",
   "version": "3.10.6"
  }
 },
 "nbformat": 4,
 "nbformat_minor": 5
}
